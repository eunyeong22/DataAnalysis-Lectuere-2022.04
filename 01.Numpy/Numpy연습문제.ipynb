{
 "cells": [
  {
   "cell_type": "markdown",
   "metadata": {},
   "source": [
    "<pre>\n",
    "1. 넘파이를 사용하여 다음과 같은 행렬을 만드시오.\n",
    "10 20 30 40\n",
    "50 60 70 80\n",
    "</pre>"
   ]
  },
  {
   "cell_type": "code",
   "execution_count": 2,
   "metadata": {},
   "outputs": [],
   "source": [
    "import numpy as np"
   ]
  },
  {
   "cell_type": "code",
   "execution_count": 3,
   "metadata": {},
   "outputs": [
    {
     "data": {
      "text/plain": [
       "array([[10, 20, 30, 40],\n",
       "       [50, 60, 70, 80]])"
      ]
     },
     "execution_count": 3,
     "metadata": {},
     "output_type": "execute_result"
    }
   ],
   "source": [
    "a=np.array([[10,20,30,40],[50,60,70,80]])\n",
    "a"
   ]
  },
  {
   "cell_type": "code",
   "execution_count": 5,
   "metadata": {},
   "outputs": [
    {
     "data": {
      "text/plain": [
       "array([[10, 20, 30, 40],\n",
       "       [50, 60, 70, 80]])"
      ]
     },
     "execution_count": 5,
     "metadata": {},
     "output_type": "execute_result"
    }
   ],
   "source": [
    "# 강사 문제풀이\n",
    "\n",
    "np.arange(1,9).reshape(2,4)*10      # = np.arange(10,81,10).reshape(2,4)"
   ]
  },
  {
   "cell_type": "markdown",
   "metadata": {},
   "source": [
    "<pre>\n",
    "2. 다음 행렬과 같은 행렬이 있다.\n",
    "m = np.array([[ 0, 1, 2, 3, 4],\n",
    " [ 5, 6, 7, 8, 9],\n",
    " [10, 11, 12, 13, 14]])\n",
    "1) 이 행렬에서 값 7 을 인덱싱한다.\n",
    "2) 이 행렬에서 값 14 을 인덱싱한다.\n",
    "3) 이 행렬에서 배열 [6, 7] 을 슬라이싱한다.\n",
    "4) 이 행렬에서 배열 [7, 12] 을 슬라이싱한다.\n",
    "5) 이 행렬에서 배열 [[3, 4], [8, 9]] 을 슬라이싱한다.\n",
    "</pre>"
   ]
  },
  {
   "cell_type": "code",
   "execution_count": 4,
   "metadata": {},
   "outputs": [],
   "source": [
    "m= np.array([[ 0, 1, 2, 3, 4], \n",
    " [ 5, 6, 7, 8, 9], \n",
    " [10, 11, 12, 13, 14]])"
   ]
  },
  {
   "cell_type": "code",
   "execution_count": 5,
   "metadata": {},
   "outputs": [
    {
     "data": {
      "text/plain": [
       "7"
      ]
     },
     "execution_count": 5,
     "metadata": {},
     "output_type": "execute_result"
    }
   ],
   "source": [
    "# 7 인덱싱\n",
    "m[1,2]"
   ]
  },
  {
   "cell_type": "code",
   "execution_count": 7,
   "metadata": {},
   "outputs": [
    {
     "data": {
      "text/plain": [
       "(14, 14)"
      ]
     },
     "execution_count": 7,
     "metadata": {},
     "output_type": "execute_result"
    }
   ],
   "source": [
    "# 14인덱싱\n",
    "m[2,-1], m[-1,-1]"
   ]
  },
  {
   "cell_type": "code",
   "execution_count": 9,
   "metadata": {},
   "outputs": [
    {
     "data": {
      "text/plain": [
       "array([[6, 7]])"
      ]
     },
     "execution_count": 9,
     "metadata": {},
     "output_type": "execute_result"
    }
   ],
   "source": [
    "# [6,7] 슬라이싱\n",
    "m[1:2,1:3]      "
   ]
  },
  {
   "cell_type": "code",
   "execution_count": 11,
   "metadata": {},
   "outputs": [
    {
     "data": {
      "text/plain": [
       "array([[ 7],\n",
       "       [12]])"
      ]
     },
     "execution_count": 11,
     "metadata": {},
     "output_type": "execute_result"
    }
   ],
   "source": [
    "# [7,12] 슬라이싱\n",
    "m[1:,2:3]       # = m[1:,2] 2차원"
   ]
  },
  {
   "cell_type": "code",
   "execution_count": 14,
   "metadata": {},
   "outputs": [
    {
     "data": {
      "text/plain": [
       "array([[3, 4],\n",
       "       [8, 9]])"
      ]
     },
     "execution_count": 14,
     "metadata": {},
     "output_type": "execute_result"
    }
   ],
   "source": [
    "# [[3, 4], [8, 9]] 슬라이싱\n",
    "m[:2,3:5]       "
   ]
  },
  {
   "cell_type": "code",
   "execution_count": 8,
   "metadata": {},
   "outputs": [
    {
     "data": {
      "text/plain": [
       "array([[3, 4],\n",
       "       [8, 9]])"
      ]
     },
     "execution_count": 8,
     "metadata": {},
     "output_type": "execute_result"
    }
   ],
   "source": [
    "m[:-1, 3:]"
   ]
  },
  {
   "cell_type": "code",
   "execution_count": 6,
   "metadata": {},
   "outputs": [
    {
     "data": {
      "text/plain": [
       "array([[ 0,  1,  2,  3,  4],\n",
       "       [ 5,  6,  7,  8,  9],\n",
       "       [10, 11, 12, 13, 14]])"
      ]
     },
     "execution_count": 6,
     "metadata": {},
     "output_type": "execute_result"
    }
   ],
   "source": [
    "# 강사문제풀이\n",
    "\n",
    "m=np.arange(15).reshape(3,5)\n",
    "m"
   ]
  },
  {
   "cell_type": "markdown",
   "metadata": {},
   "source": [
    "<pre>\n",
    "3. 2번의 행렬 m을 1차원 벡터 f 로 변환한 후 다음의 문제를 푸시오.\n",
    "1) 이 배열에서 3의 배수를 찾아라.\n",
    "2) 이 배열에서 4로 나누면 1이 남는 수를 찾아라.\n",
    "3) 이 배열에서 3으로 나누면 나누어지고 4로 나누면 1이 남는 수를 찾아라.\n",
    "</pre>"
   ]
  },
  {
   "cell_type": "code",
   "execution_count": 52,
   "metadata": {},
   "outputs": [
    {
     "data": {
      "text/plain": [
       "array([ 0,  1,  2,  3,  4,  5,  6,  7,  8,  9, 10, 11, 12, 13, 14])"
      ]
     },
     "execution_count": 52,
     "metadata": {},
     "output_type": "execute_result"
    }
   ],
   "source": [
    "# 1차원 변경\n",
    "m.flatten()"
   ]
  },
  {
   "cell_type": "code",
   "execution_count": 54,
   "metadata": {},
   "outputs": [
    {
     "data": {
      "text/plain": [
       "array([ 0,  3,  6,  9, 12])"
      ]
     },
     "execution_count": 54,
     "metadata": {},
     "output_type": "execute_result"
    }
   ],
   "source": [
    "# 3의배수\n",
    "m[m%3==0]"
   ]
  },
  {
   "cell_type": "code",
   "execution_count": 55,
   "metadata": {},
   "outputs": [
    {
     "data": {
      "text/plain": [
       "array([ 1,  5,  9, 13])"
      ]
     },
     "execution_count": 55,
     "metadata": {},
     "output_type": "execute_result"
    }
   ],
   "source": [
    "# 4로 나누면 1이 남는 수\n",
    "m[m%4==1]"
   ]
  },
  {
   "cell_type": "code",
   "execution_count": 59,
   "metadata": {},
   "outputs": [
    {
     "data": {
      "text/plain": [
       "array([ 0,  1,  3,  5,  6,  9, 12, 13])"
      ]
     },
     "execution_count": 59,
     "metadata": {},
     "output_type": "execute_result"
    }
   ],
   "source": [
    "# 3으로 나누면 나누어지고, 4로 나누면 1이 남는 수\n",
    "m[(m%3==0) + (m%4==1)]"
   ]
  },
  {
   "cell_type": "code",
   "execution_count": 9,
   "metadata": {},
   "outputs": [
    {
     "data": {
      "text/plain": [
       "array([9])"
      ]
     },
     "execution_count": 9,
     "metadata": {},
     "output_type": "execute_result"
    }
   ],
   "source": [
    "# 강사문제풀이\n",
    "m[np.logical_and(m%3==0, m%4==1)]"
   ]
  },
  {
   "cell_type": "markdown",
   "metadata": {},
   "source": [
    "<pre>\n",
    "4. 값을 직접 입력하지 말고우측의 행렬을 만드시오.\n",
    "\n",
    "2, 1, 0, 0, 0\n",
    "3, 2, 1, 0, 0\n",
    "0, 3, 2, 1, 0\n",
    "0, 0, 3, 2, 1\n",
    "0, 0, 0, 3, 2\n",
    "</pre>"
   ]
  },
  {
   "cell_type": "code",
   "execution_count": 30,
   "metadata": {},
   "outputs": [
    {
     "data": {
      "text/plain": [
       "array([[2, 1, 0, 0, 0],\n",
       "       [3, 2, 1, 0, 0],\n",
       "       [0, 3, 2, 1, 0],\n",
       "       [0, 0, 3, 2, 1],\n",
       "       [0, 0, 0, 3, 2]])"
      ]
     },
     "execution_count": 30,
     "metadata": {},
     "output_type": "execute_result"
    }
   ],
   "source": [
    "np.eye(5,5, k=-1, dtype=int)*3 + np.eye(5,5, k=0, dtype=int)*2 + np.eye(5,5, k=1, dtype=int)"
   ]
  },
  {
   "cell_type": "code",
   "execution_count": 11,
   "metadata": {},
   "outputs": [
    {
     "data": {
      "text/plain": [
       "array([[2, 1, 0, 0, 0],\n",
       "       [3, 2, 1, 0, 0],\n",
       "       [0, 3, 2, 1, 0],\n",
       "       [0, 0, 3, 2, 1],\n",
       "       [0, 0, 0, 3, 2]])"
      ]
     },
     "execution_count": 11,
     "metadata": {},
     "output_type": "execute_result"
    }
   ],
   "source": [
    "# 강사문제풀이\n",
    "np.eye(5,5, -1, int)*3 + np.eye(5,5,0, int)*2 + np.eye(5,5, 1, int)"
   ]
  },
  {
   "cell_type": "markdown",
   "metadata": {},
   "source": [
    "<pre>\n",
    "5. 0에서 10까지 랜덤 실수값으로 이루어진 5 x 6 형태의 데이터 행렬을 만들고 이 데이터에\n",
    "대해 다음과 같은 값을 구하시오.\n",
    "1) 전체의 최댓값\n",
    "2) 각 행의 합\n",
    "3) 각 행의 최댓값\n",
    "4) 각 열의 평균\n",
    "5) 각 열의 최솟값\n",
    "</pre>"
   ]
  },
  {
   "cell_type": "code",
   "execution_count": 15,
   "metadata": {},
   "outputs": [
    {
     "data": {
      "text/plain": [
       "array([[10,  5,  0,  7,  5,  5],\n",
       "       [ 8,  2,  4,  0,  9,  4],\n",
       "       [ 9,  8,  8,  0,  3,  9],\n",
       "       [ 5,  2,  1,  7,  2,  1],\n",
       "       [ 7,  9,  6,  6, 10,  7]])"
      ]
     },
     "execution_count": 15,
     "metadata": {},
     "output_type": "execute_result"
    }
   ],
   "source": [
    "b= np.random.randint(0,11,size=(5,6))\n",
    "b"
   ]
  },
  {
   "cell_type": "code",
   "execution_count": 13,
   "metadata": {},
   "outputs": [
    {
     "data": {
      "text/plain": [
       "array([[0.0936, 4.9906, 1.1338, 0.4997, 6.8541, 4.8699],\n",
       "       [8.9766, 6.4745, 8.9696, 7.2113, 8.3135, 8.2757],\n",
       "       [8.3358, 9.5704, 3.6804, 4.9484, 3.3951, 6.1943],\n",
       "       [9.7753, 0.9643, 7.4421, 2.925 , 2.9868, 7.5247],\n",
       "       [0.1866, 5.2374, 8.6444, 3.8884, 2.1219, 4.7518]])"
      ]
     },
     "execution_count": 13,
     "metadata": {},
     "output_type": "execute_result"
    }
   ],
   "source": [
    "# 강사문제풀이\n",
    "np.random.seed(2022)\n",
    "m=np.random.uniform(0,10,30).reshape(5,6).round(4)\n",
    "m"
   ]
  },
  {
   "cell_type": "code",
   "execution_count": 16,
   "metadata": {},
   "outputs": [
    {
     "data": {
      "text/plain": [
       "10"
      ]
     },
     "execution_count": 16,
     "metadata": {},
     "output_type": "execute_result"
    }
   ],
   "source": [
    "# 전체 최대값\n",
    "b.max()"
   ]
  },
  {
   "cell_type": "code",
   "execution_count": 45,
   "metadata": {},
   "outputs": [
    {
     "data": {
      "text/plain": [
       "array([25, 24, 35, 34, 27])"
      ]
     },
     "execution_count": 45,
     "metadata": {},
     "output_type": "execute_result"
    }
   ],
   "source": [
    "# 각 행의 합\n",
    "b.sum(axis=1)"
   ]
  },
  {
   "cell_type": "code",
   "execution_count": 46,
   "metadata": {},
   "outputs": [
    {
     "data": {
      "text/plain": [
       "array([ 8,  9, 10, 10,  8])"
      ]
     },
     "execution_count": 46,
     "metadata": {},
     "output_type": "execute_result"
    }
   ],
   "source": [
    "# 각 행의 최대값\n",
    "b.max(axis=1)"
   ]
  },
  {
   "cell_type": "code",
   "execution_count": 47,
   "metadata": {},
   "outputs": [
    {
     "data": {
      "text/plain": [
       "array([3.8, 6. , 4.8, 7. , 4.4, 3. ])"
      ]
     },
     "execution_count": 47,
     "metadata": {},
     "output_type": "execute_result"
    }
   ],
   "source": [
    "# 각 열의 평균\n",
    "b.mean(axis=0)"
   ]
  },
  {
   "cell_type": "code",
   "execution_count": 48,
   "metadata": {},
   "outputs": [
    {
     "data": {
      "text/plain": [
       "array([0, 0, 2, 5, 0, 0])"
      ]
     },
     "execution_count": 48,
     "metadata": {},
     "output_type": "execute_result"
    }
   ],
   "source": [
    "# 각 열의 최소값\n",
    "b.min(axis=0)"
   ]
  },
  {
   "cell_type": "markdown",
   "metadata": {},
   "source": [
    "<pre>\n",
    "6. 다음 배열은 첫번째 행(row)에 학번, 두번째 행에 영어 성적, 세번째 행에 수학 성적을 적은\n",
    "배열이다. 영어 성적을 기준으로 각 열(column)을 재정렬하시오.\n",
    "array([[ 1, 2, 3, 4],\n",
    " [ 46, 99, 100, 71],\n",
    " [ 81, 59, 90, 100]])\n",
    "</pre>\n"
   ]
  },
  {
   "cell_type": "code",
   "execution_count": 18,
   "metadata": {},
   "outputs": [
    {
     "data": {
      "text/plain": [
       "array([[  1,   2,   3,   4],\n",
       "       [ 46,  99, 100,  71],\n",
       "       [ 81,  59,  90, 100]])"
      ]
     },
     "execution_count": 18,
     "metadata": {},
     "output_type": "execute_result"
    }
   ],
   "source": [
    "# 강사문제풀이\n",
    "# pandas로 활용이 더 큼\n",
    "\n",
    "score = np.array([[ 1, 2, 3, 4],\n",
    " [ 46, 99, 100, 71],\n",
    " [ 81, 59, 90, 100]])\n",
    "score"
   ]
  },
  {
   "cell_type": "code",
   "execution_count": 19,
   "metadata": {},
   "outputs": [
    {
     "data": {
      "text/plain": [
       "array([0, 3, 1, 2], dtype=int64)"
      ]
     },
     "execution_count": 19,
     "metadata": {},
     "output_type": "execute_result"
    }
   ],
   "source": [
    "# 영어 성적을 argsort()\n",
    "indices = np.argsort(score[1])      # 1은 행인덱스1 의미\n",
    "indices"
   ]
  },
  {
   "cell_type": "code",
   "execution_count": 20,
   "metadata": {},
   "outputs": [
    {
     "data": {
      "text/plain": [
       "array([2, 1, 3, 0], dtype=int64)"
      ]
     },
     "execution_count": 20,
     "metadata": {},
     "output_type": "execute_result"
    }
   ],
   "source": [
    "# 내림차순\n",
    "indices[::-1]"
   ]
  },
  {
   "cell_type": "code",
   "execution_count": 21,
   "metadata": {},
   "outputs": [
    {
     "data": {
      "text/plain": [
       "array([[  3,   2,   4,   1],\n",
       "       [100,  99,  71,  46],\n",
       "       [ 90,  59, 100,  81]])"
      ]
     },
     "execution_count": 21,
     "metadata": {},
     "output_type": "execute_result"
    }
   ],
   "source": [
    "# 모든 행을 영어성적 내림차순 기준으로 정렬\n",
    "# 앞에는행, 뒤에는 열\n",
    "\n",
    "score[:, indices[::-1]]"
   ]
  },
  {
   "cell_type": "code",
   "execution_count": 22,
   "metadata": {},
   "outputs": [
    {
     "data": {
      "text/plain": [
       "array([[  3,   2,   4,   1],\n",
       "       [100,  99,  71,  46],\n",
       "       [ 90,  59, 100,  81]])"
      ]
     },
     "execution_count": 22,
     "metadata": {},
     "output_type": "execute_result"
    }
   ],
   "source": [
    "# 한 줄로 표시한다면\n",
    "score[:, np.argsort(score[1])[::-1]]"
   ]
  },
  {
   "cell_type": "markdown",
   "metadata": {},
   "source": [
    "<pre>\n",
    "7. 주사위를 100번 던지는 가상 실험을 파이썬으로 작성하고, \n",
    "던져서 나오는 숫자의 평균을 구하시오.\n",
    "</pre>"
   ]
  },
  {
   "cell_type": "code",
   "execution_count": 23,
   "metadata": {},
   "outputs": [
    {
     "data": {
      "text/plain": [
       "3.45"
      ]
     },
     "execution_count": 23,
     "metadata": {},
     "output_type": "execute_result"
    }
   ],
   "source": [
    "c= np.random.randint(1,7,size=100)\n",
    "np.mean(c)"
   ]
  },
  {
   "cell_type": "code",
   "execution_count": 24,
   "metadata": {},
   "outputs": [
    {
     "data": {
      "text/plain": [
       "array([1, 2, 3, 4, 5, 6])"
      ]
     },
     "execution_count": 24,
     "metadata": {},
     "output_type": "execute_result"
    }
   ],
   "source": [
    "# dice array에서의 고유값 (dice=c)\n",
    "np.unique(c)"
   ]
  },
  {
   "cell_type": "code",
   "execution_count": 25,
   "metadata": {},
   "outputs": [
    {
     "data": {
      "text/plain": [
       "(array([1, 2, 3, 4, 5, 6]), array([18, 12, 20, 20, 17, 13], dtype=int64))"
      ]
     },
     "execution_count": 25,
     "metadata": {},
     "output_type": "execute_result"
    }
   ],
   "source": [
    "# dice array에서 고유값 및 그 갯수\n",
    "np.unique(c, return_counts=True)"
   ]
  },
  {
   "cell_type": "code",
   "execution_count": 26,
   "metadata": {},
   "outputs": [
    {
     "data": {
      "text/plain": [
       "{1: 18, 2: 12, 3: 20, 4: 20, 5: 17, 6: 13}"
      ]
     },
     "execution_count": 26,
     "metadata": {},
     "output_type": "execute_result"
    }
   ],
   "source": [
    "unique, counts = np.unique(c, return_counts=True)\n",
    "dict(zip(unique, counts))"
   ]
  },
  {
   "cell_type": "markdown",
   "metadata": {},
   "source": [
    "<pre>\n",
    "8. 가격이 10,000원인 주식이 있다. 이 주식의 일간 수익률(%)은 기댓값이 0%이고 표준편차가 1%\n",
    "인 표준 정규 분포를 따른다고 하자. 250일 동안의 주가를 무작위로 생성하시오.\n",
    "</pre>"
   ]
  },
  {
   "cell_type": "code",
   "execution_count": 27,
   "metadata": {},
   "outputs": [
    {
     "name": "stdout",
     "output_type": "stream",
     "text": [
      "10000 9973 9959 10157 10186 "
     ]
    }
   ],
   "source": [
    "# 강사문제풀이\n",
    "#5개만 먼저테스트\n",
    "\n",
    "np.random.seed(2022)\n",
    "rate = np.random.normal(0,0.01,5)\n",
    "price=10000\n",
    "for i in range(5):\n",
    "    price=np.round(price*(1+rate[i]))\n",
    "    print(int(price), end=' ')"
   ]
  },
  {
   "cell_type": "code",
   "execution_count": 28,
   "metadata": {},
   "outputs": [
    {
     "data": {
      "text/plain": [
       "array([10916, 10834, 10753, 10838, 10950, 11089, 11006, 11182, 11360,\n",
       "       11658])"
      ]
     },
     "execution_count": 28,
     "metadata": {},
     "output_type": "execute_result"
    }
   ],
   "source": [
    "# 정규분포, 250개 리스트로 처리하는 방법\n",
    "np.random.seed(2022)\n",
    "rate = np.random.normal(0,0.01,250)\n",
    "price=10000\n",
    "price_list = []\n",
    "for i in range(250):\n",
    "    price=np.round(price*(1+rate[i]))\n",
    "    price_list.append(price)\n",
    "\n",
    "price_array= np.array(price_list, dtype=np.int32)\n",
    "price_array[-10:]"
   ]
  },
  {
   "cell_type": "code",
   "execution_count": 29,
   "metadata": {},
   "outputs": [
    {
     "data": {
      "text/plain": [
       "array([10916, 10834, 10753, 10838, 10950, 11089, 11006, 11182, 11360,\n",
       "       11658])"
      ]
     },
     "execution_count": 29,
     "metadata": {},
     "output_type": "execute_result"
    }
   ],
   "source": [
    "# 정규분포, 처음부터 어레이로 만들어서 처리하는 방법\n",
    "np.random.seed(2022)\n",
    "rate = np.random.normal(0,0.01,250)\n",
    "price=10000\n",
    "price_array = np.empty(250, dtype=np.int32)\n",
    "\n",
    "for i in range(250):\n",
    "    price=np.round(price*(1+rate[i]))\n",
    "    price_array[i] = price\n",
    "    \n",
    "price_array[-10:]"
   ]
  },
  {
   "cell_type": "code",
   "execution_count": 30,
   "metadata": {},
   "outputs": [
    {
     "data": {
      "text/plain": [
       "array([10916, 10834, 10753, 10838, 10950, 11089, 11006, 11182, 11360,\n",
       "       11658])"
      ]
     },
     "execution_count": 30,
     "metadata": {},
     "output_type": "execute_result"
    }
   ],
   "source": [
    "# 표준정규분포 randn 사용시\n",
    "np.random.seed(2022)\n",
    "rate = np.random.randn(250)\n",
    "price=10000\n",
    "price_array = np.empty(250, dtype=np.int32)\n",
    "\n",
    "for i in range(250):\n",
    "    price=np.round(price*(1+rate[i]*0.01))\n",
    "    price_array[i] = price\n",
    "    \n",
    "price_array[-10:]"
   ]
  },
  {
   "cell_type": "code",
   "execution_count": null,
   "metadata": {},
   "outputs": [],
   "source": []
  }
 ],
 "metadata": {
  "interpreter": {
   "hash": "6d46af94c2bbce495f1e668725902fa517c90b1782bcfe2fce0dd9868df553d3"
  },
  "kernelspec": {
   "display_name": "Python 3.9.7 ('base')",
   "language": "python",
   "name": "python3"
  },
  "language_info": {
   "codemirror_mode": {
    "name": "ipython",
    "version": 3
   },
   "file_extension": ".py",
   "mimetype": "text/x-python",
   "name": "python",
   "nbconvert_exporter": "python",
   "pygments_lexer": "ipython3",
   "version": "3.9.7"
  },
  "orig_nbformat": 4
 },
 "nbformat": 4,
 "nbformat_minor": 2
}
